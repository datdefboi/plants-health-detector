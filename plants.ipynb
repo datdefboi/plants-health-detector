{
 "metadata": {
  "language_info": {
   "codemirror_mode": {
    "name": "ipython",
    "version": 3
   },
   "file_extension": ".py",
   "mimetype": "text/x-python",
   "name": "python",
   "nbconvert_exporter": "python",
   "pygments_lexer": "ipython3",
   "version": "3.8.5-final"
  },
  "orig_nbformat": 2,
  "kernelspec": {
   "name": "python3",
   "display_name": "Python 3.8.5 64-bit ('phd-env': conda)",
   "metadata": {
    "interpreter": {
     "hash": "f7fa9eea03c597329e8f8ae4395614c6f5dc7f6f7ce0646151cd544016b336f3"
    }
   }
  }
 },
 "nbformat": 4,
 "nbformat_minor": 2,
 "cells": [
  {
   "source": [
    "## Препроцессинг"
   ],
   "cell_type": "markdown",
   "metadata": {}
  },
  {
   "cell_type": "code",
   "execution_count": null,
   "metadata": {},
   "outputs": [],
   "source": [
    "from glob import glob\n",
    "import numpy as np\n",
    "import pandas as pd\n",
    "import os\n",
    "import shutil \n",
    "import matplotlib.pyplot as plt\n",
    "from tensorflow.keras.preprocessing.image import ImageDataGenerator, load_img, img_to_array, array_to_img"
   ]
  },
  {
   "cell_type": "code",
   "execution_count": null,
   "metadata": {},
   "outputs": [],
   "source": [
    "labels = []\n",
    "images = []\n",
    "for cultures in glob(\"dataset/*\"):\n",
    "    for disease in glob(cultures+\"/*\"):\n",
    "        for s in glob(disease+\"/*\"):\n",
    "            img = img_to_array(load_img(s, target_size=(224,224))) \n",
    "            labels.append(disease.split('\\\\')[-1])\n",
    "            images.append(img)\n"
   ]
  },
  {
   "cell_type": "code",
   "execution_count": null,
   "metadata": {},
   "outputs": [],
   "source": [
    "labels[1]"
   ]
  },
  {
   "cell_type": "code",
   "execution_count": null,
   "metadata": {},
   "outputs": [],
   "source": [
    "array_to_img(images[1])"
   ]
  },
  {
   "cell_type": "code",
   "execution_count": null,
   "metadata": {},
   "outputs": [],
   "source": [
    "from tensorflow.keras.applications.resnet50 import ResNet50\n",
    "from tensorflow.keras.models import Model\n",
    "import tensorflow as tf\n",
    "\n",
    "restnet = ResNet50(include_top=False, weights='imagenet', input_shape=(224,224,3)) # загружаем предобученную сеть"
   ]
  },
  {
   "cell_type": "code",
   "execution_count": null,
   "metadata": {},
   "outputs": [],
   "source": [
    "from tensorflow.keras.utils import to_categorical\n",
    "from sklearn.preprocessing import LabelEncoder\n",
    "\n",
    "le = LabelEncoder()\n",
    "n_labels = le.fit_transform(labels)\n",
    "y = to_categorical(n_labels)\n",
    "y"
   ]
  },
  {
   "cell_type": "code",
   "execution_count": null,
   "metadata": {},
   "outputs": [],
   "source": [
    "labels_count = np.unique(n_labels).size\n",
    "labels_count"
   ]
  },
  {
   "source": [
    "## Сборка модели"
   ],
   "cell_type": "markdown",
   "metadata": {}
  },
  {
   "cell_type": "code",
   "execution_count": null,
   "metadata": {
    "tags": []
   },
   "outputs": [],
   "source": [
    "output = restnet.layers[-1].output # используем выход пердыдущего слоя\n",
    "output = tf.keras.layers.Flatten()(output) # видимо обертка\n",
    "restnet = Model(restnet.input, outputs=[output]) # создаем это все дело как модель\n",
    "for layer in restnet.layers: # замораживаем предобученные слои модели\n",
    "    layer.trainable = False"
   ]
  },
  {
   "cell_type": "code",
   "execution_count": null,
   "metadata": {},
   "outputs": [],
   "source": [
    "from tensorflow.keras.layers import Conv2D, MaxPooling2D, Flatten, Dense, Dropout, InputLayer\n",
    "from tensorflow.keras.models import Sequential\n",
    "from tensorflow.keras import optimizers\n",
    "model = Sequential() #  собираем сеть из предобученныз слов и полносвязных слоев с отсечением в 0.3\n",
    "model.add(restnet)\n",
    "model.add(Dense(512, activation='relu', input_dim=(100352)))\n",
    "model.add(Dropout(0.3))\n",
    "model.add(Dense(512, activation='relu'))\n",
    "model.add(Dropout(0.3))\n",
    "model.add(Dense(labels_count, activation='sigmoid'))\n",
    "model.compile(loss='categorical_crossentropy', # лейблы кодируются в one-hot\n",
    "              optimizer=optimizers.RMSprop(lr=2e-5), # sgd с тюнингом\n",
    "              metrics=['accuracy'])\n",
    "model.summary()"
   ]
  },
  {
   "cell_type": "code",
   "execution_count": null,
   "metadata": {},
   "outputs": [],
   "source": []
  },
  {
   "cell_type": "code",
   "execution_count": null,
   "metadata": {},
   "outputs": [],
   "source": [
    "from sklearn.model_selection import train_test_split\n",
    "[X_train, X_test, y_train, y_test] = train_test_split(X, y, test_size=0.1, train_size=0.9, random_state=777)"
   ]
  },
  {
   "source": [
    "## Обучение"
   ],
   "cell_type": "markdown",
   "metadata": {}
  },
  {
   "cell_type": "code",
   "execution_count": null,
   "metadata": {},
   "outputs": [],
   "source": [
    "history = model.fit(X_train, y_train,\n",
    "                              steps_per_epoch=100, \n",
    "                              epochs=2,\n",
    "                              validation_data=(X_test, y_test), \n",
    "                              validation_steps=50, \n",
    "                              verbose=1)"
   ]
  },
  {
   "cell_type": "code",
   "execution_count": null,
   "metadata": {},
   "outputs": [],
   "source": []
  }
 ]
}