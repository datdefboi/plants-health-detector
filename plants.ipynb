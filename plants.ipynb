{
 "cells": [
  {
   "cell_type": "code",
   "execution_count": null,
   "metadata": {},
   "outputs": [],
   "source": [
    "from tensorflow.python.client import device_lib\n",
    "\n",
    "local_device_protos = device_lib.list_local_devices()\n",
    "[x.physical_device_desc for x in local_device_protos if x.device_type == 'GPU']\n"
   ]
  },
  {
   "cell_type": "markdown",
   "metadata": {},
   "source": [
    "## Препроцессинг"
   ]
  },
  {
   "cell_type": "code",
   "execution_count": null,
   "metadata": {},
   "outputs": [],
   "source": [
    "from glob import glob\n",
    "import numpy as np\n",
    "import pandas as pd\n",
    "import os\n",
    "import shutil \n",
    "import matplotlib.pyplot as plt\n",
    "from tensorflow.keras.preprocessing.image import ImageDataGenerator, load_img, img_to_array, array_to_img"
   ]
  },
  {
   "cell_type": "code",
   "execution_count": null,
   "metadata": {
    "scrolled": true
   },
   "outputs": [],
   "source": [
    "\n",
    "images = []\n",
    "diseases = []\n",
    "for culture in glob(\"dataset/*\"):\n",
    "    for disease in glob(culture+\"/*\"):\n",
    "        for s in glob(disease+\"/*\"):\n",
    "            img = img_to_array(load_img(s, target_size=(224,224))) \n",
    "            diseases.append(culture.split('/')[-1]+\"-\"+disease.split('/')[-1])\n",
    "            images.append(img)\n",
    "len(diseases), len(images)"
   ]
  },
  {
   "cell_type": "code",
   "execution_count": null,
   "metadata": {},
   "outputs": [],
   "source": [
    "len(diseases)"
   ]
  },
  {
   "cell_type": "code",
   "execution_count": null,
   "metadata": {},
   "outputs": [],
   "source": [
    "array_to_img(images[0])"
   ]
  },
  {
   "cell_type": "code",
   "execution_count": null,
   "metadata": {},
   "outputs": [],
   "source": [
    "from tensorflow.keras.utils import to_categorical\n",
    "from sklearn.preprocessing import LabelEncoder\n",
    "\n",
    "de = LabelEncoder()\n",
    "n_labels = de.fit_transform(diseases)\n",
    "D = to_categorical(n_labels)"
   ]
  },
  {
   "cell_type": "code",
   "execution_count": null,
   "metadata": {},
   "outputs": [],
   "source": [
    "labels_count = np.unique(n_labels).size\n",
    "labels_count"
   ]
  },
  {
   "cell_type": "code",
   "execution_count": null,
   "metadata": {},
   "outputs": [],
   "source": [
    "from tensorflow.keras.applications.nasnet import preprocess_input\n",
    "X = preprocess_input(np.array(images))"
   ]
  },
  {
   "cell_type": "code",
   "execution_count": null,
   "metadata": {},
   "outputs": [],
   "source": [
    "from sklearn.model_selection import train_test_split\n",
    "X_train, X_test, C_train, C_test = train_test_split(X, D, train_size=0.8, test_size=0.2, random_state=777) # поменял на исходные изображения"
   ]
  },
  {
   "cell_type": "code",
   "execution_count": null,
   "metadata": {},
   "outputs": [],
   "source": [
    "gen_train = ImageDataGenerator(featurewise_center=True,\n",
    "    featurewise_std_normalization=True,\n",
    "    rotation_range=90,\n",
    "    horizontal_flip=True)\n",
    "flow_train = gen_train.flow(X_train,C_train)\n",
    "\n",
    "gen_test = ImageDataGenerator()\n",
    "flow_test = gen_test.flow(X_test, C_test)"
   ]
  },
  {
   "cell_type": "markdown",
   "metadata": {},
   "source": [
    "## Обучение"
   ]
  },
  {
   "cell_type": "code",
   "execution_count": null,
   "metadata": {},
   "outputs": [],
   "source": [
    "from tensorflow.keras.applications import MobileNetV2\n",
    "from tensorflow.keras.models import Model\n",
    "from tensorflow.keras.layers import MaxPooling2D\n",
    "import tensorflow as tf"
   ]
  },
  {
   "cell_type": "code",
   "execution_count": null,
   "metadata": {},
   "outputs": [],
   "source": [
    "restnet = MobileNetV2(include_top=False, weights='imagenet', input_shape=(224,224,3)) # загружаем предобученную сеть\n",
    "\n",
    "output = restnet.layers[-1].output # используем выход пердыдущего слоя\n",
    "restnet_output = Model(restnet.input, outputs=[output]) # создаем это все дело как модель\n",
    "for layer in restnet.layers: # замораживаем предобученные слои модели\n",
    "    layer.trainable = False\n"
   ]
  },
  {
   "cell_type": "code",
   "execution_count": null,
   "metadata": {
    "scrolled": true
   },
   "outputs": [],
   "source": [
    "from tensorflow.keras.layers import Conv2D, MaxPooling2D, Flatten, Dense, Dropout, InputLayer, Input, concatenate \n",
    "from tensorflow.keras.models import Model\n",
    "from tensorflow.keras import optimizers\n",
    "\n",
    "#C_input = Input(shape=(C.shape[1]))\n",
    "\n",
    "conv = Conv2D(600, (5,5))(restnet_output.output)\n",
    "res_pooling = MaxPooling2D((3,3))(conv)\n",
    "flat = Flatten()(res_pooling)\n",
    "\n",
    "#concat_l = concatenate([C_input, flat])\n",
    "\n",
    "dense_1 = Dense(128, activation='sigmoid')(flat)\n",
    "drop_1 = Dropout(0.3)(dense_1)\n",
    "dense_3 = Dense(labels_count, activation='sigmoid')(drop_1)\n",
    "\n",
    "model = Model(inputs=[restnet_output.input], outputs=[dense_3])\n",
    "model.compile(loss='categorical_crossentropy', # лейблы кодируются в one-hot\n",
    "                  optimizer=optimizers.RMSprop(lr=2e-5), # sgd с тюнингом\n",
    "                  metrics=['accuracy'])\n",
    "model.summary()"
   ]
  },
  {
   "cell_type": "code",
   "execution_count": null,
   "metadata": {},
   "outputs": [],
   "source": [
    "model.input"
   ]
  },
  {
   "cell_type": "code",
   "execution_count": null,
   "metadata": {},
   "outputs": [],
   "source": [
    "X_train.shape"
   ]
  },
  {
   "cell_type": "code",
   "execution_count": null,
   "metadata": {
    "scrolled": true
   },
   "outputs": [],
   "source": [
    "import datetime\n",
    "# Create a callback that saves the model's weights\n",
    "cp_callback = tf.keras.callbacks.ModelCheckpoint(filepath=\"checkpoint.ch\",\n",
    "                                                 save_weights_only=True,\n",
    "                                                 verbose=1)\n",
    "\n",
    "history = model.fit(flow_train,\n",
    "                    steps_per_epoch=200,\n",
    "                    epochs=4,\n",
    "                    validation_steps=30,\n",
    "                    validation_data=flow_test,\n",
    "                    verbose=1)"
   ]
  },
  {
   "cell_type": "code",
   "execution_count": null,
   "metadata": {},
   "outputs": [],
   "source": [
    "plt.plot(history.history[\"loss\"])\n",
    "plt.plot(history.history[\"val_loss\"])\n",
    "plt.legend([\"loss\",\"val_loss\"])"
   ]
  },
  {
   "cell_type": "code",
   "execution_count": null,
   "metadata": {},
   "outputs": [],
   "source": [
    "plt.plot(history.history[\"accuracy\"])\n",
    "plt.plot(history.history[\"val_accuracy\"])\n",
    "plt.plot((np.array(history.history[\"val_accuracy\"])+np.array(history.history[\"accuracy\"]))/2)\n",
    "plt.legend([\"accuracy\",\"val_accuracy\"])"
   ]
  },
  {
   "cell_type": "code",
   "execution_count": null,
   "metadata": {},
   "outputs": [],
   "source": [
    "def predict(n):\n",
    "    img = preprocess_input(np.array([images[n]]))\n",
    "    predicted = np.argmax(model.predict(img))\n",
    "    plt.imshow(images[n].astype(\"int\"))\n",
    "    actual = np.argmax(D[n])\n",
    "    return de.inverse_transform([predicted, actual])"
   ]
  },
  {
   "cell_type": "code",
   "execution_count": null,
   "metadata": {},
   "outputs": [],
   "source": [
    "def find_failed():\n",
    "    transformed = preprocess_input(np.array(images))\n",
    "    predicted = model.predict(transformed)\n",
    "    for i in range(predicted.shape[0]):\n",
    "        p = np.argmax(predicted[i])\n",
    "        a = np.argmax(D[i])\n",
    "        if(p!=a):\n",
    "            print((i, de.inverse_transform([p,a])))"
   ]
  },
  {
   "cell_type": "code",
   "execution_count": null,
   "metadata": {},
   "outputs": [],
   "source": [
    "find_failed()"
   ]
  },
  {
   "cell_type": "code",
   "execution_count": null,
   "metadata": {},
   "outputs": [],
   "source": []
  },
  {
   "cell_type": "code",
   "execution_count": null,
   "metadata": {},
   "outputs": [],
   "source": []
  }
 ],
 "metadata": {
  "kernelspec": {
   "display_name": "Python 3",
   "language": "python",
   "name": "python3"
  },
  "language_info": {
   "codemirror_mode": {
    "name": "ipython",
    "version": 3
   },
   "file_extension": ".py",
   "mimetype": "text/x-python",
   "name": "python",
   "nbconvert_exporter": "python",
   "pygments_lexer": "ipython3",
   "version": "3.7.7"
  },
  "toc": {
   "base_numbering": 1,
   "nav_menu": {},
   "number_sections": false,
   "sideBar": false,
   "skip_h1_title": false,
   "title_cell": "Table of Contents",
   "title_sidebar": "Contents",
   "toc_cell": false,
   "toc_position": {},
   "toc_section_display": false,
   "toc_window_display": false
  }
 },
 "nbformat": 4,
 "nbformat_minor": 2
}
